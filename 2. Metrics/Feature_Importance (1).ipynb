{
  "nbformat": 4,
  "nbformat_minor": 0,
  "metadata": {
    "colab": {
      "provenance": []
    },
    "kernelspec": {
      "name": "python3",
      "display_name": "Python 3"
    },
    "language_info": {
      "name": "python"
    }
  },
  "cells": [
    {
      "cell_type": "code",
      "execution_count": 3,
      "metadata": {
        "colab": {
          "base_uri": "https://localhost:8080/"
        },
        "id": "QXv4PfoO3UZF",
        "outputId": "915c7197-d53e-400d-aa7a-57bff10e1a39"
      },
      "outputs": [
        {
          "output_type": "stream",
          "name": "stdout",
          "text": [
            "Recall: 0.0\n",
            "Precision: 0.0\n",
            "F1 Score: 0.0\n"
          ]
        },
        {
          "output_type": "stream",
          "name": "stderr",
          "text": [
            "/usr/local/lib/python3.11/dist-packages/sklearn/metrics/_classification.py:1565: UndefinedMetricWarning: Precision is ill-defined and being set to 0.0 due to no predicted samples. Use `zero_division` parameter to control this behavior.\n",
            "  _warn_prf(average, modifier, f\"{metric.capitalize()} is\", len(result))\n"
          ]
        }
      ],
      "source": [
        "# model training\n",
        "import pandas as pd\n",
        "from sklearn.model_selection import train_test_split\n",
        "import matplotlib.pyplot as plt\n",
        "from sklearn.ensemble import RandomForestClassifier\n",
        "from sklearn.preprocessing import StandardScaler\n",
        "from sklearn.metrics import recall_score, precision_score, f1_score\n",
        "data = pd.read_csv(\"/content/creditcard.csv\")\n",
        "\n",
        "df = pd.DataFrame(data)\n",
        "\n",
        "# print(df.head())\n",
        "\n",
        "df.dropna(inplace=True)\n",
        "df.drop_duplicates(inplace=True)\n",
        "\n",
        "scaler = StandardScaler()\n",
        "\n",
        "X = df.drop(\"Class\", axis=1)\n",
        "Y = df[\"Class\"]\n",
        "\n",
        "X_scaled = scaler.fit_transform(X)\n",
        "\n",
        "x_train, x_test, y_train, y_test = train_test_split(X_scaled,Y, test_size=0.25, stratify=Y)\n",
        "\n",
        "rfc = RandomForestClassifier()\n",
        "rfc.fit(x_train, y_train)\n",
        "\n",
        "y_pred = rfc.predict(x_test)\n",
        "\n",
        "recall = recall_score(y_test, y_pred)\n",
        "precision = precision_score(y_test, y_pred)\n",
        "f1 = f1_score(y_test, y_pred)\n",
        "\n",
        "print(\"Recall:\", recall)\n",
        "print(\"Precision:\", precision)\n",
        "print(\"F1 Score:\", f1)\n",
        "\n",
        "\n",
        "\n"
      ]
    },
    {
      "cell_type": "markdown",
      "source": [
        "Scores are 0 becuase of the amount of imbalance the dataset has is insane."
      ],
      "metadata": {
        "id": "Ov_ZnwJP8KYG"
      }
    },
    {
      "cell_type": "code",
      "source": [
        "import pandas as pd\n",
        "import numpy as np\n",
        "import matplotlib.pyplot as plt\n",
        "\n",
        "# Assume you already have your trained Random Forest model\n",
        "importances = rfc.feature_importances_\n",
        "feature_names = X.columns\n",
        "\n",
        "# Sort by importance\n",
        "indices = np.argsort(importances)[::-1]\n",
        "\n",
        "# Plot\n",
        "plt.figure(figsize=(12,6))\n",
        "plt.title(\"🔍 Feature Importances\")\n",
        "plt.bar(range(X.shape[1]), importances[indices])\n",
        "plt.xticks(range(X.shape[1]), feature_names[indices], rotation=90)\n",
        "plt.tight_layout()\n",
        "plt.show()\n"
      ],
      "metadata": {
        "colab": {
          "base_uri": "https://localhost:8080/",
          "height": 700
        },
        "id": "CTGy2ycf3eJj",
        "outputId": "87321744-79d6-4d69-fd4b-e6a2d7f8561b"
      },
      "execution_count": 4,
      "outputs": [
        {
          "output_type": "stream",
          "name": "stderr",
          "text": [
            "/tmp/ipython-input-1926750132.py:17: UserWarning: Glyph 128269 (\\N{LEFT-POINTING MAGNIFYING GLASS}) missing from font(s) DejaVu Sans.\n",
            "  plt.tight_layout()\n",
            "/usr/local/lib/python3.11/dist-packages/IPython/core/pylabtools.py:151: UserWarning: Glyph 128269 (\\N{LEFT-POINTING MAGNIFYING GLASS}) missing from font(s) DejaVu Sans.\n",
            "  fig.canvas.print_figure(bytes_io, **kw)\n"
          ]
        },
        {
          "output_type": "display_data",
          "data": {
            "text/plain": [
              "<Figure size 1200x600 with 1 Axes>"
            ],
            "image/png": "[encoded data removed]"
          },
          "metadata": {}
        }
      ]
    },
    {
      "cell_type": "markdown",
      "source": [
        "Now compare Roc or F1 after removing the least important features and train again."
      ],
      "metadata": {
        "id": "ziWv4t_L3y8R"
      }
    },
    {
      "cell_type": "code",
      "source": [
        "# Selecting the K best features in the dataset.\n",
        "from sklearn.feature_selection import SelectKBest, f_classif\n",
        "\n",
        "\n",
        "# Initiate and generate new X\n",
        "selector = SelectKBest(f_classif, k=10)\n",
        "x_new = selector.fit_transform(X_scaled, Y)\n",
        "\n",
        "# Keep track of the features that are selected.\n",
        "mask = selector.get_support()\n",
        "selected_features = X.columns[mask]\n",
        "print(\"🎯 Selected Features:\", selected_features.tolist())\n",
        "\n",
        "# Split and train the model\n",
        "x_train, x_test, y_train, y_test = train_test_split(x_new, Y, test_size=0.25, stratify=Y)\n",
        "model = RandomForestClassifier(class_weight=\"balanced\")\n",
        "model.fit(x_train, y_train)\n",
        "\n",
        "y_pre = model.predict(x_test)\n",
        "\n",
        "print(\"📊 F1 Score after SelectKBest:\", f1_score(y_test, y_pre)) # F1 score being 0 is because there are no sufficient class 1s to train the model."
      ],
      "metadata": {
        "id": "orXbvCRw35Vz",
        "colab": {
          "base_uri": "https://localhost:8080/"
        },
        "outputId": "714d8175-e03a-4c60-8b8f-8fb494ce8714"
      },
      "execution_count": 10,
      "outputs": [
        {
          "output_type": "stream",
          "name": "stdout",
          "text": [
            "🎯 Selected Features: ['V1', 'V3', 'V4', 'V9', 'V10', 'V11', 'V12', 'V14', 'V17', 'V23']\n",
            "📊 F1 Score after SelectKBest: 0.0\n"
          ]
        }
      ]
    },
    {
      "cell_type": "code",
      "source": [
        "print(Y.value_counts())\n"
      ],
      "metadata": {
        "colab": {
          "base_uri": "https://localhost:8080/"
        },
        "id": "-8y7506keCGT",
        "outputId": "1f69436c-c213-4fc7-8be0-825b68829f76"
      },
      "execution_count": 8,
      "outputs": [
        {
          "output_type": "stream",
          "name": "stdout",
          "text": [
            "Class\n",
            "0.0    5934\n",
            "1.0       3\n",
            "Name: count, dtype: int64\n"
          ]
        }
      ]
    }
  ]
}